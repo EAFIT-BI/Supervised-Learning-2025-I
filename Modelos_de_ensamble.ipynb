{
  "cells": [
    {
      "cell_type": "markdown",
      "metadata": {
        "id": "view-in-github",
        "colab_type": "text"
      },
      "source": [
        "<a href=\"https://colab.research.google.com/github/EAFIT-BI/Supervised-Learning-2025-I/blob/main/Modelos_de_ensamble.ipynb\" target=\"_parent\"><img src=\"https://colab.research.google.com/assets/colab-badge.svg\" alt=\"Open In Colab\"/></a>"
      ]
    },
    {
      "cell_type": "markdown",
      "id": "5f31fc3e",
      "metadata": {
        "id": "5f31fc3e"
      },
      "source": [
        "# Modelos de ensamble\n",
        "\n",
        "Los modelos de ensamble utilizan la unión de varios modelos para mejorar el desempeño individual. Dentro los modelos generales de ensamble encontramos:\n",
        "\n",
        "- Bagging (bootstrap)\n",
        "- Bosques aleatorios (Random Forest)\n",
        "- Boosting"
      ]
    },
    {
      "cell_type": "code",
      "execution_count": null,
      "id": "73530c26",
      "metadata": {
        "collapsed": true,
        "colab": {
          "base_uri": "https://localhost:8080/",
          "height": 307
        },
        "id": "73530c26",
        "outputId": "3d371136-b1eb-4568-bd81-ac79cd5d68cf"
      },
      "outputs": [
        {
          "output_type": "execute_result",
          "data": {
            "text/plain": [
              "                            mpg  cylinders  displacement  horsepower  weight  \\\n",
              "car name                                                                       \n",
              "chevrolet chevelle malibu  18.0        8.0         307.0       130.0  3504.0   \n",
              "buick skylark 320          15.0        8.0         350.0       165.0  3693.0   \n",
              "plymouth satellite         18.0        8.0         318.0       150.0  3436.0   \n",
              "amc rebel sst              16.0        8.0         304.0       150.0  3433.0   \n",
              "ford torino                17.0        8.0         302.0       140.0  3449.0   \n",
              "\n",
              "                           acceleration  model year  origin  \n",
              "car name                                                     \n",
              "chevrolet chevelle malibu          12.0        70.0     1.0  \n",
              "buick skylark 320                  11.5        70.0     1.0  \n",
              "plymouth satellite                 11.0        70.0     1.0  \n",
              "amc rebel sst                      12.0        70.0     1.0  \n",
              "ford torino                        10.5        70.0     1.0  "
            ],
            "text/html": [
              "\n",
              "  <div id=\"df-f74f08ba-d7dc-481d-961f-a4c7e1984e4a\" class=\"colab-df-container\">\n",
              "    <div>\n",
              "<style scoped>\n",
              "    .dataframe tbody tr th:only-of-type {\n",
              "        vertical-align: middle;\n",
              "    }\n",
              "\n",
              "    .dataframe tbody tr th {\n",
              "        vertical-align: top;\n",
              "    }\n",
              "\n",
              "    .dataframe thead th {\n",
              "        text-align: right;\n",
              "    }\n",
              "</style>\n",
              "<table border=\"1\" class=\"dataframe\">\n",
              "  <thead>\n",
              "    <tr style=\"text-align: right;\">\n",
              "      <th></th>\n",
              "      <th>mpg</th>\n",
              "      <th>cylinders</th>\n",
              "      <th>displacement</th>\n",
              "      <th>horsepower</th>\n",
              "      <th>weight</th>\n",
              "      <th>acceleration</th>\n",
              "      <th>model year</th>\n",
              "      <th>origin</th>\n",
              "    </tr>\n",
              "    <tr>\n",
              "      <th>car name</th>\n",
              "      <th></th>\n",
              "      <th></th>\n",
              "      <th></th>\n",
              "      <th></th>\n",
              "      <th></th>\n",
              "      <th></th>\n",
              "      <th></th>\n",
              "      <th></th>\n",
              "    </tr>\n",
              "  </thead>\n",
              "  <tbody>\n",
              "    <tr>\n",
              "      <th>chevrolet chevelle malibu</th>\n",
              "      <td>18.0</td>\n",
              "      <td>8.0</td>\n",
              "      <td>307.0</td>\n",
              "      <td>130.0</td>\n",
              "      <td>3504.0</td>\n",
              "      <td>12.0</td>\n",
              "      <td>70.0</td>\n",
              "      <td>1.0</td>\n",
              "    </tr>\n",
              "    <tr>\n",
              "      <th>buick skylark 320</th>\n",
              "      <td>15.0</td>\n",
              "      <td>8.0</td>\n",
              "      <td>350.0</td>\n",
              "      <td>165.0</td>\n",
              "      <td>3693.0</td>\n",
              "      <td>11.5</td>\n",
              "      <td>70.0</td>\n",
              "      <td>1.0</td>\n",
              "    </tr>\n",
              "    <tr>\n",
              "      <th>plymouth satellite</th>\n",
              "      <td>18.0</td>\n",
              "      <td>8.0</td>\n",
              "      <td>318.0</td>\n",
              "      <td>150.0</td>\n",
              "      <td>3436.0</td>\n",
              "      <td>11.0</td>\n",
              "      <td>70.0</td>\n",
              "      <td>1.0</td>\n",
              "    </tr>\n",
              "    <tr>\n",
              "      <th>amc rebel sst</th>\n",
              "      <td>16.0</td>\n",
              "      <td>8.0</td>\n",
              "      <td>304.0</td>\n",
              "      <td>150.0</td>\n",
              "      <td>3433.0</td>\n",
              "      <td>12.0</td>\n",
              "      <td>70.0</td>\n",
              "      <td>1.0</td>\n",
              "    </tr>\n",
              "    <tr>\n",
              "      <th>ford torino</th>\n",
              "      <td>17.0</td>\n",
              "      <td>8.0</td>\n",
              "      <td>302.0</td>\n",
              "      <td>140.0</td>\n",
              "      <td>3449.0</td>\n",
              "      <td>10.5</td>\n",
              "      <td>70.0</td>\n",
              "      <td>1.0</td>\n",
              "    </tr>\n",
              "  </tbody>\n",
              "</table>\n",
              "</div>\n",
              "    <div class=\"colab-df-buttons\">\n",
              "\n",
              "  <div class=\"colab-df-container\">\n",
              "    <button class=\"colab-df-convert\" onclick=\"convertToInteractive('df-f74f08ba-d7dc-481d-961f-a4c7e1984e4a')\"\n",
              "            title=\"Convert this dataframe to an interactive table.\"\n",
              "            style=\"display:none;\">\n",
              "\n",
              "  <svg xmlns=\"http://www.w3.org/2000/svg\" height=\"24px\" viewBox=\"0 -960 960 960\">\n",
              "    <path d=\"M120-120v-720h720v720H120Zm60-500h600v-160H180v160Zm220 220h160v-160H400v160Zm0 220h160v-160H400v160ZM180-400h160v-160H180v160Zm440 0h160v-160H620v160ZM180-180h160v-160H180v160Zm440 0h160v-160H620v160Z\"/>\n",
              "  </svg>\n",
              "    </button>\n",
              "\n",
              "  <style>\n",
              "    .colab-df-container {\n",
              "      display:flex;\n",
              "      gap: 12px;\n",
              "    }\n",
              "\n",
              "    .colab-df-convert {\n",
              "      background-color: #E8F0FE;\n",
              "      border: none;\n",
              "      border-radius: 50%;\n",
              "      cursor: pointer;\n",
              "      display: none;\n",
              "      fill: #1967D2;\n",
              "      height: 32px;\n",
              "      padding: 0 0 0 0;\n",
              "      width: 32px;\n",
              "    }\n",
              "\n",
              "    .colab-df-convert:hover {\n",
              "      background-color: #E2EBFA;\n",
              "      box-shadow: 0px 1px 2px rgba(60, 64, 67, 0.3), 0px 1px 3px 1px rgba(60, 64, 67, 0.15);\n",
              "      fill: #174EA6;\n",
              "    }\n",
              "\n",
              "    .colab-df-buttons div {\n",
              "      margin-bottom: 4px;\n",
              "    }\n",
              "\n",
              "    [theme=dark] .colab-df-convert {\n",
              "      background-color: #3B4455;\n",
              "      fill: #D2E3FC;\n",
              "    }\n",
              "\n",
              "    [theme=dark] .colab-df-convert:hover {\n",
              "      background-color: #434B5C;\n",
              "      box-shadow: 0px 1px 3px 1px rgba(0, 0, 0, 0.15);\n",
              "      filter: drop-shadow(0px 1px 2px rgba(0, 0, 0, 0.3));\n",
              "      fill: #FFFFFF;\n",
              "    }\n",
              "  </style>\n",
              "\n",
              "    <script>\n",
              "      const buttonEl =\n",
              "        document.querySelector('#df-f74f08ba-d7dc-481d-961f-a4c7e1984e4a button.colab-df-convert');\n",
              "      buttonEl.style.display =\n",
              "        google.colab.kernel.accessAllowed ? 'block' : 'none';\n",
              "\n",
              "      async function convertToInteractive(key) {\n",
              "        const element = document.querySelector('#df-f74f08ba-d7dc-481d-961f-a4c7e1984e4a');\n",
              "        const dataTable =\n",
              "          await google.colab.kernel.invokeFunction('convertToInteractive',\n",
              "                                                    [key], {});\n",
              "        if (!dataTable) return;\n",
              "\n",
              "        const docLinkHtml = 'Like what you see? Visit the ' +\n",
              "          '<a target=\"_blank\" href=https://colab.research.google.com/notebooks/data_table.ipynb>data table notebook</a>'\n",
              "          + ' to learn more about interactive tables.';\n",
              "        element.innerHTML = '';\n",
              "        dataTable['output_type'] = 'display_data';\n",
              "        await google.colab.output.renderOutput(dataTable, element);\n",
              "        const docLink = document.createElement('div');\n",
              "        docLink.innerHTML = docLinkHtml;\n",
              "        element.appendChild(docLink);\n",
              "      }\n",
              "    </script>\n",
              "  </div>\n",
              "\n",
              "\n",
              "<div id=\"df-d06db2b4-a303-4190-8f7a-c96d461171c4\">\n",
              "  <button class=\"colab-df-quickchart\" onclick=\"quickchart('df-d06db2b4-a303-4190-8f7a-c96d461171c4')\"\n",
              "            title=\"Suggest charts\"\n",
              "            style=\"display:none;\">\n",
              "\n",
              "<svg xmlns=\"http://www.w3.org/2000/svg\" height=\"24px\"viewBox=\"0 0 24 24\"\n",
              "     width=\"24px\">\n",
              "    <g>\n",
              "        <path d=\"M19 3H5c-1.1 0-2 .9-2 2v14c0 1.1.9 2 2 2h14c1.1 0 2-.9 2-2V5c0-1.1-.9-2-2-2zM9 17H7v-7h2v7zm4 0h-2V7h2v10zm4 0h-2v-4h2v4z\"/>\n",
              "    </g>\n",
              "</svg>\n",
              "  </button>\n",
              "\n",
              "<style>\n",
              "  .colab-df-quickchart {\n",
              "      --bg-color: #E8F0FE;\n",
              "      --fill-color: #1967D2;\n",
              "      --hover-bg-color: #E2EBFA;\n",
              "      --hover-fill-color: #174EA6;\n",
              "      --disabled-fill-color: #AAA;\n",
              "      --disabled-bg-color: #DDD;\n",
              "  }\n",
              "\n",
              "  [theme=dark] .colab-df-quickchart {\n",
              "      --bg-color: #3B4455;\n",
              "      --fill-color: #D2E3FC;\n",
              "      --hover-bg-color: #434B5C;\n",
              "      --hover-fill-color: #FFFFFF;\n",
              "      --disabled-bg-color: #3B4455;\n",
              "      --disabled-fill-color: #666;\n",
              "  }\n",
              "\n",
              "  .colab-df-quickchart {\n",
              "    background-color: var(--bg-color);\n",
              "    border: none;\n",
              "    border-radius: 50%;\n",
              "    cursor: pointer;\n",
              "    display: none;\n",
              "    fill: var(--fill-color);\n",
              "    height: 32px;\n",
              "    padding: 0;\n",
              "    width: 32px;\n",
              "  }\n",
              "\n",
              "  .colab-df-quickchart:hover {\n",
              "    background-color: var(--hover-bg-color);\n",
              "    box-shadow: 0 1px 2px rgba(60, 64, 67, 0.3), 0 1px 3px 1px rgba(60, 64, 67, 0.15);\n",
              "    fill: var(--button-hover-fill-color);\n",
              "  }\n",
              "\n",
              "  .colab-df-quickchart-complete:disabled,\n",
              "  .colab-df-quickchart-complete:disabled:hover {\n",
              "    background-color: var(--disabled-bg-color);\n",
              "    fill: var(--disabled-fill-color);\n",
              "    box-shadow: none;\n",
              "  }\n",
              "\n",
              "  .colab-df-spinner {\n",
              "    border: 2px solid var(--fill-color);\n",
              "    border-color: transparent;\n",
              "    border-bottom-color: var(--fill-color);\n",
              "    animation:\n",
              "      spin 1s steps(1) infinite;\n",
              "  }\n",
              "\n",
              "  @keyframes spin {\n",
              "    0% {\n",
              "      border-color: transparent;\n",
              "      border-bottom-color: var(--fill-color);\n",
              "      border-left-color: var(--fill-color);\n",
              "    }\n",
              "    20% {\n",
              "      border-color: transparent;\n",
              "      border-left-color: var(--fill-color);\n",
              "      border-top-color: var(--fill-color);\n",
              "    }\n",
              "    30% {\n",
              "      border-color: transparent;\n",
              "      border-left-color: var(--fill-color);\n",
              "      border-top-color: var(--fill-color);\n",
              "      border-right-color: var(--fill-color);\n",
              "    }\n",
              "    40% {\n",
              "      border-color: transparent;\n",
              "      border-right-color: var(--fill-color);\n",
              "      border-top-color: var(--fill-color);\n",
              "    }\n",
              "    60% {\n",
              "      border-color: transparent;\n",
              "      border-right-color: var(--fill-color);\n",
              "    }\n",
              "    80% {\n",
              "      border-color: transparent;\n",
              "      border-right-color: var(--fill-color);\n",
              "      border-bottom-color: var(--fill-color);\n",
              "    }\n",
              "    90% {\n",
              "      border-color: transparent;\n",
              "      border-bottom-color: var(--fill-color);\n",
              "    }\n",
              "  }\n",
              "</style>\n",
              "\n",
              "  <script>\n",
              "    async function quickchart(key) {\n",
              "      const quickchartButtonEl =\n",
              "        document.querySelector('#' + key + ' button');\n",
              "      quickchartButtonEl.disabled = true;  // To prevent multiple clicks.\n",
              "      quickchartButtonEl.classList.add('colab-df-spinner');\n",
              "      try {\n",
              "        const charts = await google.colab.kernel.invokeFunction(\n",
              "            'suggestCharts', [key], {});\n",
              "      } catch (error) {\n",
              "        console.error('Error during call to suggestCharts:', error);\n",
              "      }\n",
              "      quickchartButtonEl.classList.remove('colab-df-spinner');\n",
              "      quickchartButtonEl.classList.add('colab-df-quickchart-complete');\n",
              "    }\n",
              "    (() => {\n",
              "      let quickchartButtonEl =\n",
              "        document.querySelector('#df-d06db2b4-a303-4190-8f7a-c96d461171c4 button');\n",
              "      quickchartButtonEl.style.display =\n",
              "        google.colab.kernel.accessAllowed ? 'block' : 'none';\n",
              "    })();\n",
              "  </script>\n",
              "</div>\n",
              "\n",
              "    </div>\n",
              "  </div>\n"
            ],
            "application/vnd.google.colaboratory.intrinsic+json": {
              "type": "dataframe",
              "variable_name": "datos",
              "summary": "{\n  \"name\": \"datos\",\n  \"rows\": 392,\n  \"fields\": [\n    {\n      \"column\": \"car name\",\n      \"properties\": {\n        \"dtype\": \"string\",\n        \"num_unique_values\": 301,\n        \"samples\": [\n          \"subaru dl\",\n          \"buick century limited\",\n          \"plymouth horizon\"\n        ],\n        \"semantic_type\": \"\",\n        \"description\": \"\"\n      }\n    },\n    {\n      \"column\": \"mpg\",\n      \"properties\": {\n        \"dtype\": \"number\",\n        \"std\": 7.805007486571799,\n        \"min\": 9.0,\n        \"max\": 46.6,\n        \"num_unique_values\": 127,\n        \"samples\": [\n          17.5,\n          35.1,\n          28.8\n        ],\n        \"semantic_type\": \"\",\n        \"description\": \"\"\n      }\n    },\n    {\n      \"column\": \"cylinders\",\n      \"properties\": {\n        \"dtype\": \"number\",\n        \"std\": 1.7057832474527843,\n        \"min\": 3.0,\n        \"max\": 8.0,\n        \"num_unique_values\": 5,\n        \"samples\": [\n          4.0,\n          5.0,\n          6.0\n        ],\n        \"semantic_type\": \"\",\n        \"description\": \"\"\n      }\n    },\n    {\n      \"column\": \"displacement\",\n      \"properties\": {\n        \"dtype\": \"number\",\n        \"std\": 104.64400390890465,\n        \"min\": 68.0,\n        \"max\": 455.0,\n        \"num_unique_values\": 81,\n        \"samples\": [\n          116.0,\n          307.0,\n          360.0\n        ],\n        \"semantic_type\": \"\",\n        \"description\": \"\"\n      }\n    },\n    {\n      \"column\": \"horsepower\",\n      \"properties\": {\n        \"dtype\": \"number\",\n        \"std\": 38.49115993282855,\n        \"min\": 46.0,\n        \"max\": 230.0,\n        \"num_unique_values\": 93,\n        \"samples\": [\n          92.0,\n          100.0,\n          52.0\n        ],\n        \"semantic_type\": \"\",\n        \"description\": \"\"\n      }\n    },\n    {\n      \"column\": \"weight\",\n      \"properties\": {\n        \"dtype\": \"number\",\n        \"std\": 849.4025600429494,\n        \"min\": 1613.0,\n        \"max\": 5140.0,\n        \"num_unique_values\": 346,\n        \"samples\": [\n          2472.0,\n          3221.0,\n          2700.0\n        ],\n        \"semantic_type\": \"\",\n        \"description\": \"\"\n      }\n    },\n    {\n      \"column\": \"acceleration\",\n      \"properties\": {\n        \"dtype\": \"number\",\n        \"std\": 2.7588641191880816,\n        \"min\": 8.0,\n        \"max\": 24.8,\n        \"num_unique_values\": 95,\n        \"samples\": [\n          14.7,\n          18.0,\n          14.3\n        ],\n        \"semantic_type\": \"\",\n        \"description\": \"\"\n      }\n    },\n    {\n      \"column\": \"model year\",\n      \"properties\": {\n        \"dtype\": \"number\",\n        \"std\": 3.6837365435778318,\n        \"min\": 70.0,\n        \"max\": 82.0,\n        \"num_unique_values\": 13,\n        \"samples\": [\n          81.0,\n          79.0,\n          70.0\n        ],\n        \"semantic_type\": \"\",\n        \"description\": \"\"\n      }\n    },\n    {\n      \"column\": \"origin\",\n      \"properties\": {\n        \"dtype\": \"number\",\n        \"std\": 0.805518183418305,\n        \"min\": 1.0,\n        \"max\": 3.0,\n        \"num_unique_values\": 3,\n        \"samples\": [\n          1.0,\n          3.0,\n          2.0\n        ],\n        \"semantic_type\": \"\",\n        \"description\": \"\"\n      }\n    }\n  ]\n}"
            }
          },
          "metadata": {},
          "execution_count": 11
        }
      ],
      "source": [
        "import pandas as pd\n",
        "# Leemos los datos\n",
        "datos = pd.read_csv('auto-mpg.data-original',\n",
        "                    sep = '\\s+', header = None)\n",
        "datos = datos.dropna()\n",
        "# Asignamos los nombres a las columnas\n",
        "datos.columns = ['mpg', 'cylinders', 'displacement',\n",
        "                'horsepower', 'weight', 'acceleration',\n",
        "                'model year', 'origin', 'car name']\n",
        "# Cambiamos el índice por defecto\n",
        "datos.set_index('car name', inplace = True)\n",
        "# Visualizamos la información modificada\n",
        "datos.head()"
      ]
    },
    {
      "cell_type": "markdown",
      "id": "f90a9a17",
      "metadata": {
        "id": "f90a9a17"
      },
      "source": [
        "# Clasificador lineal\n",
        "\n",
        "En este caso usaremos un regresor logístico para la clasificación."
      ]
    },
    {
      "cell_type": "code",
      "execution_count": null,
      "id": "2997c0db",
      "metadata": {
        "id": "2997c0db"
      },
      "outputs": [],
      "source": [
        "# Separamos las variables predictoras de la variable objetivo\n",
        "X = datos.drop('origin', axis = 1)\n",
        "y = datos['origin']"
      ]
    },
    {
      "cell_type": "code",
      "execution_count": null,
      "id": "f9fca7a1",
      "metadata": {
        "id": "f9fca7a1"
      },
      "outputs": [],
      "source": [
        "# Particionamos en train y test\n",
        "from sklearn.model_selection import train_test_split\n",
        "\n",
        "X_train, X_test, y_train, y_test = train_test_split(X, y, train_size = 0.75, random_state = 27,\n",
        "                         stratify = y)"
      ]
    },
    {
      "cell_type": "code",
      "execution_count": null,
      "id": "550335b5",
      "metadata": {
        "collapsed": true,
        "id": "550335b5"
      },
      "outputs": [],
      "source": [
        "# Preprocesamos los datos\n",
        "from sklearn.preprocessing import StandardScaler\n",
        "# Instanciamos el escalador\n",
        "escalador = StandardScaler()\n",
        "# Aplicamos al train y al test\n",
        "escalador.fit_transform(X_train);"
      ]
    },
    {
      "cell_type": "code",
      "execution_count": null,
      "id": "1040dc4c",
      "metadata": {
        "collapsed": true,
        "id": "1040dc4c"
      },
      "outputs": [],
      "source": [
        "escalador.fit_transform(X_test);"
      ]
    },
    {
      "cell_type": "code",
      "execution_count": null,
      "id": "acff406e",
      "metadata": {
        "id": "acff406e"
      },
      "outputs": [],
      "source": [
        "from sklearn.linear_model import LogisticRegression\n",
        "from scipy.stats import loguniform\n",
        "from sklearn.model_selection import RandomizedSearchCV\n",
        "# El modelo de regresión logística tiene dos hiperparámetros\n",
        "# a considerar. La C y la penalización.\n",
        "modelo = LogisticRegression(max_iter = 500,\n",
        "                            solver = 'liblinear',\n",
        "                           class_weight = 'balanced')\n",
        "\n",
        "# Instanciamos la sintonización\n",
        "distribucion = {'C': loguniform(0.001, 10),\n",
        "            'penalty': ['l1', 'l2']}\n",
        "grid_search = RandomizedSearchCV(estimator = modelo,\n",
        "                                param_distributions = distribucion,\n",
        "                                scoring = 'f1_weighted',\n",
        "                                cv = 5)"
      ]
    },
    {
      "cell_type": "code",
      "execution_count": null,
      "id": "6080aaa7",
      "metadata": {
        "colab": {
          "base_uri": "https://localhost:8080/"
        },
        "id": "6080aaa7",
        "outputId": "ada8bb29-e5e5-4e07-fa66-60d1293cee81"
      },
      "outputs": [
        {
          "output_type": "stream",
          "name": "stdout",
          "text": [
            "Score y parámetros: (np.float64(0.7749597625994435), {'C': np.float64(3.0279422506245397), 'penalty': 'l2'})\n"
          ]
        }
      ],
      "source": [
        "# Hacemos la búsqueda\n",
        "grid_search.fit(X_train, y_train)\n",
        "\n",
        "# Visualizamos el mejor valor con los mejores hiperparámetros\n",
        "print(f'Score y parámetros: {grid_search.best_score_, grid_search.best_params_}')"
      ]
    },
    {
      "cell_type": "code",
      "source": [
        "# Imprimimos los reportes de clasificación tanto para el train\n",
        "# como para el test\n",
        "\n",
        "from sklearn.metrics import classification_report\n",
        "\n",
        "y_pred = grid_search.predict(X_train)\n",
        "print(classification_report(y_train, y_pred))\n",
        "\n",
        "y_pred = grid_search.predict(X_test)\n",
        "print(classification_report(y_test, y_pred))"
      ],
      "metadata": {
        "colab": {
          "base_uri": "https://localhost:8080/"
        },
        "collapsed": true,
        "id": "dlub1_R_-UMU",
        "outputId": "2fced0e3-516d-479f-828f-9cba0da703c9"
      },
      "id": "dlub1_R_-UMU",
      "execution_count": null,
      "outputs": [
        {
          "output_type": "stream",
          "name": "stdout",
          "text": [
            "              precision    recall  f1-score   support\n",
            "\n",
            "         1.0       0.96      0.85      0.90       184\n",
            "         2.0       0.61      0.53      0.57        51\n",
            "         3.0       0.53      0.78      0.63        59\n",
            "\n",
            "    accuracy                           0.78       294\n",
            "   macro avg       0.70      0.72      0.70       294\n",
            "weighted avg       0.81      0.78      0.79       294\n",
            "\n",
            "              precision    recall  f1-score   support\n",
            "\n",
            "         1.0       0.93      0.92      0.93        61\n",
            "         2.0       0.44      0.41      0.42        17\n",
            "         3.0       0.55      0.60      0.57        20\n",
            "\n",
            "    accuracy                           0.77        98\n",
            "   macro avg       0.64      0.64      0.64        98\n",
            "weighted avg       0.77      0.77      0.77        98\n",
            "\n"
          ]
        }
      ]
    },
    {
      "cell_type": "markdown",
      "source": [
        "## Árboles\n",
        "\n",
        "Dado que el clasificador lineal no tiene un desempeño óptimo, intentaremos hacer la clasificación con un modelo de árboles."
      ],
      "metadata": {
        "id": "zPSo9Omd_klo"
      },
      "id": "zPSo9Omd_klo"
    },
    {
      "cell_type": "code",
      "source": [
        "# Tomamos los datos originales\n",
        "X = datos.drop('origin', axis = 1)\n",
        "y = datos['origin']\n",
        "\n",
        "# Particionamos en train y test\n",
        "X_train, X_test, y_train, y_test = train_test_split(X, y,\n",
        "                                                    train_size = 0.75,\n",
        "                                                    random_state = 27,\n",
        "                                                    stratify = y)"
      ],
      "metadata": {
        "id": "kNUFGig-CeCQ"
      },
      "id": "kNUFGig-CeCQ",
      "execution_count": null,
      "outputs": []
    },
    {
      "cell_type": "code",
      "source": [
        "# Para este modelo, configuraremos la poda con ccp alpha.\n",
        "# Para ello haremos un sintonización con el fin de determinar el\n",
        "# valor de alpha.\n",
        "\n",
        "from sklearn.tree import DecisionTreeClassifier\n",
        "from scipy.stats import loguniform\n",
        "from sklearn.metrics import f1_score\n",
        "from sklearn.model_selection import RandomizedSearchCV\n",
        "# Instanciamos el modelo\n",
        "modelo = DecisionTreeClassifier(random_state = 27)\n",
        "\n",
        "# Definimos los parámetros de la sintonización\n",
        "distribucion = {'ccp_alpha': loguniform(0.001, 10)}\n",
        "\n",
        "# Instanciamos la sintonización\n",
        "grid_search = RandomizedSearchCV(estimator = modelo,\n",
        "                                param_distributions = distribucion,\n",
        "                                scoring = 'f1_weighted',\n",
        "                                cv = 5)\n",
        "# Ejecutamos la sintonización\n",
        "grid_search.fit(X_train, y_train)\n",
        "\n",
        "# Visualizamos el mejor valor con los mejores hiperparámetros\n",
        "print(f'Score y parámetros: {grid_search.best_score_,\n",
        "                             grid_search.best_params_}')"
      ],
      "metadata": {
        "colab": {
          "base_uri": "https://localhost:8080/"
        },
        "collapsed": true,
        "id": "qIXHRCN2Cz74",
        "outputId": "e0f20f83-c9bd-4e0e-c82a-cfe21a64a044"
      },
      "id": "qIXHRCN2Cz74",
      "execution_count": null,
      "outputs": [
        {
          "output_type": "stream",
          "name": "stdout",
          "text": [
            "Score y parámetros: (np.float64(0.7877727887070838), {'ccp_alpha': np.float64(0.004020266749573214)})\n"
          ]
        }
      ]
    },
    {
      "cell_type": "code",
      "source": [
        "# Imprimimos los reportes de clasificación con el fin\n",
        "# de comparar los resultados con el modelo lineal\n",
        "\n",
        "print(classification_report(y_train, grid_search.predict(X_train)))\n",
        "print(classification_report(y_test, grid_search.predict(X_test)))"
      ],
      "metadata": {
        "colab": {
          "base_uri": "https://localhost:8080/"
        },
        "collapsed": true,
        "id": "D3aSWN5cEgJ5",
        "outputId": "379c0494-6744-4bd2-d1a1-3324fb986702"
      },
      "id": "D3aSWN5cEgJ5",
      "execution_count": null,
      "outputs": [
        {
          "output_type": "stream",
          "name": "stdout",
          "text": [
            "              precision    recall  f1-score   support\n",
            "\n",
            "         1.0       0.98      0.97      0.98       184\n",
            "         2.0       0.98      0.94      0.96        51\n",
            "         3.0       0.92      0.98      0.95        59\n",
            "\n",
            "    accuracy                           0.97       294\n",
            "   macro avg       0.96      0.97      0.96       294\n",
            "weighted avg       0.97      0.97      0.97       294\n",
            "\n",
            "              precision    recall  f1-score   support\n",
            "\n",
            "         1.0       0.92      0.95      0.94        61\n",
            "         2.0       0.75      0.53      0.62        17\n",
            "         3.0       0.78      0.90      0.84        20\n",
            "\n",
            "    accuracy                           0.87        98\n",
            "   macro avg       0.82      0.79      0.80        98\n",
            "weighted avg       0.86      0.87      0.86        98\n",
            "\n"
          ]
        }
      ]
    },
    {
      "cell_type": "markdown",
      "source": [
        "## Ensambles\n",
        "\n",
        "Ahora compararemos los modelos aplicados con los ensambles, para comprobar si hay mejora o no en el sobre-entrenamiento."
      ],
      "metadata": {
        "id": "oPTUO4GRFbWB"
      },
      "id": "oPTUO4GRFbWB"
    },
    {
      "cell_type": "markdown",
      "source": [
        "### Bagging (bootstrap)"
      ],
      "metadata": {
        "id": "sC0mhxMNFkWW"
      },
      "id": "sC0mhxMNFkWW"
    },
    {
      "cell_type": "code",
      "source": [
        "# Implementamos el modelo de ensamble de Bagging\n",
        "from sklearn.ensemble import BaggingClassifier\n",
        "\n",
        "# Instanciamos el ensamble\n",
        "ensamble = BaggingClassifier(estimator = DecisionTreeClassifier(),\n",
        "                             n_estimators = 100,random_state = 27)\n",
        "\n",
        " #Entrenamos el modelo\n",
        "ensamble.fit(X_train, y_train)\n",
        "\n",
        "# Imprimimos los reportes de clasificación\n",
        "print(classification_report(y_train, ensamble.predict(X_train)))\n",
        "print(classification_report(y_test, ensamble.predict(X_test)))"
      ],
      "metadata": {
        "colab": {
          "base_uri": "https://localhost:8080/"
        },
        "collapsed": true,
        "id": "ZGWT-ZgDFwwm",
        "outputId": "2bcdf851-18a8-4557-83e8-f0be662fa2b3"
      },
      "id": "ZGWT-ZgDFwwm",
      "execution_count": null,
      "outputs": [
        {
          "output_type": "stream",
          "name": "stdout",
          "text": [
            "              precision    recall  f1-score   support\n",
            "\n",
            "         1.0       1.00      1.00      1.00       184\n",
            "         2.0       1.00      1.00      1.00        51\n",
            "         3.0       1.00      1.00      1.00        59\n",
            "\n",
            "    accuracy                           1.00       294\n",
            "   macro avg       1.00      1.00      1.00       294\n",
            "weighted avg       1.00      1.00      1.00       294\n",
            "\n",
            "              precision    recall  f1-score   support\n",
            "\n",
            "         1.0       0.92      0.97      0.94        61\n",
            "         2.0       0.92      0.65      0.76        17\n",
            "         3.0       0.86      0.95      0.90        20\n",
            "\n",
            "    accuracy                           0.91        98\n",
            "   macro avg       0.90      0.85      0.87        98\n",
            "weighted avg       0.91      0.91      0.90        98\n",
            "\n"
          ]
        }
      ]
    },
    {
      "cell_type": "markdown",
      "source": [
        "### Bosques aleatorios (RandomForest - RF)"
      ],
      "metadata": {
        "id": "uGilcGwIHb6U"
      },
      "id": "uGilcGwIHb6U"
    },
    {
      "cell_type": "code",
      "source": [
        "# El segundo modelo de ensamble que probaremos serán los\n",
        "# bosques aleatorios\n",
        "from sklearn.ensemble import RandomForestClassifier\n",
        "\n",
        "# Instanciamos el modelo\n",
        "ensamble = RandomForestClassifier(n_estimators = 100,\n",
        "                                  random_state = 27)\n",
        "# Entrenamos el ensamble\n",
        "ensamble.fit(X_train, y_train)\n",
        "\n",
        "# Imprimimos los reportes de clasificación\n",
        "print(classification_report(y_train, ensamble.predict(X_train)))\n",
        "print(classification_report(y_test, ensamble.predict(X_test)))"
      ],
      "metadata": {
        "colab": {
          "base_uri": "https://localhost:8080/"
        },
        "collapsed": true,
        "id": "mJoHINLKHhfo",
        "outputId": "2b888396-e6c3-47f7-b323-0c3f5aad09cf"
      },
      "id": "mJoHINLKHhfo",
      "execution_count": null,
      "outputs": [
        {
          "output_type": "stream",
          "name": "stdout",
          "text": [
            "              precision    recall  f1-score   support\n",
            "\n",
            "         1.0       1.00      1.00      1.00       184\n",
            "         2.0       1.00      1.00      1.00        51\n",
            "         3.0       1.00      1.00      1.00        59\n",
            "\n",
            "    accuracy                           1.00       294\n",
            "   macro avg       1.00      1.00      1.00       294\n",
            "weighted avg       1.00      1.00      1.00       294\n",
            "\n",
            "              precision    recall  f1-score   support\n",
            "\n",
            "         1.0       0.91      0.95      0.93        61\n",
            "         2.0       0.67      0.59      0.62        17\n",
            "         3.0       0.84      0.80      0.82        20\n",
            "\n",
            "    accuracy                           0.86        98\n",
            "   macro avg       0.81      0.78      0.79        98\n",
            "weighted avg       0.85      0.86      0.85        98\n",
            "\n"
          ]
        }
      ]
    },
    {
      "cell_type": "markdown",
      "source": [
        "### Boosting (Gradient Boosting)"
      ],
      "metadata": {
        "id": "DH6QpJjLJdMN"
      },
      "id": "DH6QpJjLJdMN"
    },
    {
      "cell_type": "code",
      "source": [
        "# El último modelo de ensamble que probaremos será el de\n",
        "# boosting (gradient boosting)\n",
        "from sklearn.ensemble import GradientBoostingClassifier\n",
        "\n",
        "# Instanciamos el ensamble\n",
        "ensamble = GradientBoostingClassifier(n_estimators = 100,\n",
        "                                      random_state = 27)\n",
        "# Entrenamos el ensamble\n",
        "ensamble.fit(X_train, y_train)\n",
        "\n",
        "# Imprimimos los reportes de clasificación\n",
        "print(classification_report(y_train, ensamble.predict(X_train)))\n",
        "print(classification_report(y_test, ensamble.predict(X_test)))"
      ],
      "metadata": {
        "colab": {
          "base_uri": "https://localhost:8080/"
        },
        "id": "HB3eEKQ0JmLW",
        "outputId": "aac420a5-92e9-4b49-8338-c149923238de"
      },
      "id": "HB3eEKQ0JmLW",
      "execution_count": null,
      "outputs": [
        {
          "output_type": "stream",
          "name": "stdout",
          "text": [
            "              precision    recall  f1-score   support\n",
            "\n",
            "         1.0       1.00      1.00      1.00       184\n",
            "         2.0       1.00      1.00      1.00        51\n",
            "         3.0       1.00      1.00      1.00        59\n",
            "\n",
            "    accuracy                           1.00       294\n",
            "   macro avg       1.00      1.00      1.00       294\n",
            "weighted avg       1.00      1.00      1.00       294\n",
            "\n",
            "              precision    recall  f1-score   support\n",
            "\n",
            "         1.0       0.94      0.97      0.95        61\n",
            "         2.0       0.82      0.53      0.64        17\n",
            "         3.0       0.79      0.95      0.86        20\n",
            "\n",
            "    accuracy                           0.89        98\n",
            "   macro avg       0.85      0.82      0.82        98\n",
            "weighted avg       0.89      0.89      0.88        98\n",
            "\n"
          ]
        }
      ]
    }
  ],
  "metadata": {
    "kernelspec": {
      "display_name": "Python 3 (ipykernel)",
      "language": "python",
      "name": "python3"
    },
    "language_info": {
      "codemirror_mode": {
        "name": "ipython",
        "version": 3
      },
      "file_extension": ".py",
      "mimetype": "text/x-python",
      "name": "python",
      "nbconvert_exporter": "python",
      "pygments_lexer": "ipython3",
      "version": "3.11.5"
    },
    "colab": {
      "provenance": [],
      "include_colab_link": true
    }
  },
  "nbformat": 4,
  "nbformat_minor": 5
}